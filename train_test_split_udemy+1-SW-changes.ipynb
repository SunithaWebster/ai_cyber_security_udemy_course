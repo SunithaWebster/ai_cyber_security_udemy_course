{
  "cells": [
    {
      "attachments": {},
      "cell_type": "markdown",
      "metadata": {
        "id": "478ne8Yauv0n"
      },
      "source": [
        "In machine learning, the goal is to create a program that is able to perform tasks it has never been explicitly taught to perform. The way we do this, is to use data we have collected to **train** or **fit** a mathematical or statistical model.  The data used to fit the model is called **training data**.\n",
        "\n",
        "The resulting trained model is used to predict future, previously unseen data. In this way, the program is able to manage new situations without human intervention.\n",
        "\n",
        "One of the challenges for our machine learning model is **overfitting**, which is when a model that performs well on the training data, but is not able to generalize to new, previously unseen data.\n",
        "\n",
        "To solve this problem, machine learning engineers set aside a portion of the data, called **test data** and use it to assess the performance of the trained model, as opposed to including it as part of the training dataset.\n",
        "\n",
        "Overfitting in cyber security is an omnipresent danger.\n",
        "\n",
        "One small oversight, such as using only benign data from one locale, can lead to a poor classifier.\n",
        "\n",
        "There are various other ways to validate model performance, such as cross-validation. For simplicity, we will focus mainly on **train-test splitting**."
      ]
    },
    {
      "cell_type": "code",
      "execution_count": null,
      "metadata": {
        "colab": {
          "base_uri": "https://localhost:8080/"
        },
        "id": "TLOM1SJp0HcH",
        "outputId": "383ad27f-08a6-4def-8a98-aa7dca2e629d"
      },
      "outputs": [
        {
          "name": "stdout",
          "output_type": "stream",
          "text": [
            "Mounted at /content/drive\n"
          ]
        }
      ],
      "source": [
        "from google.colab import drive\n",
        "drive.mount('/content/drive')"
      ]
    },
    {
      "cell_type": "code",
      "execution_count": null,
      "metadata": {
        "colab": {
          "base_uri": "https://localhost:8080/"
        },
        "id": "AOnE5xzz0KQl",
        "outputId": "3e5a0fe1-8f4e-4dd1-81f2-5b2f4b293ac7"
      },
      "outputs": [
        {
          "name": "stdout",
          "output_type": "stream",
          "text": [
            "/content/drive/My Drive/Colab Notebooks\n"
          ]
        }
      ],
      "source": [
        "%cd /content/drive/My Drive/Colab Notebooks"
      ]
    },
    {
      "cell_type": "code",
      "execution_count": null,
      "metadata": {
        "id": "GqVBlXmg1WBj"
      },
      "outputs": [],
      "source": [
        "# import train_test_split module and the pandas library and read features into x and labels into y.\n",
        "\n",
        "from sklearn.model_selection import train_test_split\n",
        "import pandas as pd"
      ]
    },
    {
      "cell_type": "code",
      "execution_count": null,
      "metadata": {
        "id": "04jwUFPb1mvO"
      },
      "outputs": [],
      "source": [
        "df = pd.read_csv(\"north_korea_missile_test_database.csv\")"
      ]
    },
    {
      "cell_type": "code",
      "execution_count": null,
      "metadata": {
        "id": "POfj6rYe1223"
      },
      "outputs": [],
      "source": [
        "y = df[\"Missile Name\"]\n",
        "x = df.drop(\"Missile Name\", axis=1)"
      ]
    },
    {
      "cell_type": "code",
      "execution_count": null,
      "metadata": {
        "id": "2XgHv3692X8M"
      },
      "outputs": [],
      "source": [
        "# Randomly split the dataset and its labels into a training set comprising 80% of the original dataset and a testing set which is 20% of the original.\n",
        "x_train, x_test, y_train, y_test = train_test_split(x, y, test_size=0.2, random_state=31)"
      ]
    },
    {
      "cell_type": "code",
      "execution_count": null,
      "metadata": {
        "id": "u2Z96h-g2wZM"
      },
      "outputs": [],
      "source": [
        "# We will apply the train_test_split method once more, to obtain a validation set, which is x_val and y_val\n",
        "x_train, x_val, y_train, y_val = train_test_split(x_train, y_train, test_size=0.25, random_state=31)"
      ]
    },
    {
      "cell_type": "code",
      "execution_count": null,
      "metadata": {
        "colab": {
          "base_uri": "https://localhost:8080/"
        },
        "id": "BPSL4tyT3JjN",
        "outputId": "500a4bd1-10d2-48ed-a824-bec925f30809"
      },
      "outputs": [
        {
          "name": "stdout",
          "output_type": "stream",
          "text": [
            "81\n",
            "81\n",
            "27\n",
            "27\n",
            "27\n",
            "27\n"
          ]
        }
      ],
      "source": [
        "# Training set is no 60% of the size of the original data, accompanied by a validation set and testing set of roughly 20%\n",
        "print(len(x_train))\n",
        "print(len(y_train))\n",
        "print(len(x_val))\n",
        "print(len(y_val))\n",
        "print(len(x_test))\n",
        "print(len(y_test))"
      ]
    },
    {
      "cell_type": "markdown",
      "metadata": {
        "id": "hLN72Az53mNw"
      },
      "source": [
        "**How does it work**\n",
        "\n",
        "\n",
        "*   Step 1: We start by reading our dataset, consisting of historical and continuing missile experiments in North Korea.  We aim to predict the type of missile based on remaining features, such as facility and time of launch\n",
        "\n",
        "*   Step 2: We apply `sklearn`'s `train_test_split` method to subdivide `x` and `y` into a training set, `x_train` and `y_train`, and also a testing set, `x_test` and `y_test`.  The `test_size=0.2` parameter means that the testing set consists of 20% of the original data, while the remainder is placed in the training set.  The `random_state` parameter allows us to reproduce the same, randomly generated split.\n",
        "\n",
        "*   Step 3: We often compare several different models. The danger of using the testing set to select the best model, is that we may end up overfitting the testing set. This is similar to the statistical sin of **data fishing**. In order to solve this problem, we need to create an additional dataset called a **validation set**.\n",
        "\n",
        "*   Step 4 will be to double-check our assumptions, by employing the `len` function to compute the length of the array."
      ]
    }
  ],
  "metadata": {
    "colab": {
      "provenance": []
    },
    "kernelspec": {
      "display_name": "Python 3",
      "name": "python3"
    },
    "language_info": {
      "name": "python"
    }
  },
  "nbformat": 4,
  "nbformat_minor": 0
}
